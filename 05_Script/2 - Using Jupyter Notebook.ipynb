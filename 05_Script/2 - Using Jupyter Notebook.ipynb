{
 "cells": [
  {
   "cell_type": "markdown",
   "metadata": {},
   "source": [
    "# Apprendre à utiliser un Jupyter Notebook\n"
   ]
  },
  {
   "cell_type": "markdown",
   "metadata": {},
   "source": [
    "<div class=\"alert alert-block alert-info\"> **INTRODUCTION** :  \n",
    "\n",
    "Le principe d'un jupyter notebook est de pouvoir faire de beau rendu du code Python \n",
    "  \n",
    "**Avantage**:\n",
    "- Rendu élégant du code\n",
    "- Permet de mélanger du code, avec des rendus, et des commentaires utilisateurs\n",
    "\n",
    "**Inconvénient**:\n",
    "- Plus difficile à debugguer\n",
    "- Ce n'est pas une solution pour créer une solution pereine Python (pas moyen de git ce code)\n",
    "\n",
    "Dans ce tuto, on va essayer d'expliquer quelques notions en Jupyter Notebook:\n",
    "- les blocks de code\n",
    "- les blocks de Markdown (texte, titre)\n",
    "- Comment faire un rapport LaTeX final"
   ]
  },
  {
   "cell_type": "markdown",
   "metadata": {},
   "source": [
    "Sources: \n",
    "-  __[Github de Cao et Nono](https://github.com/malganis35/machinelearningNono)__"
   ]
  },
  {
   "cell_type": "markdown",
   "metadata": {},
   "source": [
    "# 0. Preparation"
   ]
  },
  {
   "cell_type": "code",
   "execution_count": 1,
   "metadata": {
    "collapsed": true
   },
   "outputs": [],
   "source": [
    "# Import libraries\n",
    "import os"
   ]
  },
  {
   "cell_type": "code",
   "execution_count": 2,
   "metadata": {
    "collapsed": false
   },
   "outputs": [
    {
     "name": "stdout",
     "output_type": "stream",
     "text": [
      "Actual Directory: C:\\Users\\caotrido\\Documents\\Perso\\Machine Learning For Nono\\05_Script\n"
     ]
    }
   ],
   "source": [
    "# get the current directory\n",
    "actual_dir = os.getcwd()\n",
    "print \"Actual Directory:\", actual_dir"
   ]
  },
  {
   "cell_type": "code",
   "execution_count": 4,
   "metadata": {
    "collapsed": false
   },
   "outputs": [
    {
     "name": "stdout",
     "output_type": "stream",
     "text": [
      "Parent Path: C:\\Users\\caotrido\\Documents\\Perso\\Machine Learning For Nono\n"
     ]
    }
   ],
   "source": [
    "# Get the parent path\n",
    "parentPath = os.path.abspath(os.path.join(os.getcwd(), os.pardir))\n",
    "print \"Parent Path:\", parentPath\n"
   ]
  },
  {
   "cell_type": "markdown",
   "metadata": {},
   "source": [
    "# 1. Load the data"
   ]
  },
  {
   "cell_type": "markdown",
   "metadata": {},
   "source": [
    "Ci-dessous, je donne un exemple de code générique que j'utilise souvent pour lire des fichiers. Je conseille fortement de tout stocker dans des variables, et encore mieux dans des dictionnaires (= structure de Matlab) pour pouvoir s'y retrouver plus facilement"
   ]
  },
  {
   "cell_type": "code",
   "execution_count": 10,
   "metadata": {
    "collapsed": true
   },
   "outputs": [],
   "source": [
    "# Create a dictionary to store user parameters\n",
    "PATH = {}\n",
    "PATH[\"parent\"] = os.path.abspath(os.path.join(os.getcwd(), os.pardir))\n",
    "PATH[\"data\"] = PATH[\"parent\"] + \"/01_PBC/2 - Iris/\"\n",
    "\n",
    "PARAM = {}\n",
    "PARAM[\"fileData\"] = \"IRIS.csv\"\n",
    "PARAM[\"separator\"]= \",\"\n",
    "PARAM[\"encoding\"] = \"utf-8\" # ce paramètre est super important quand on lit des fichiers texte sinon tu vas avoir des bugs ...."
   ]
  },
  {
   "cell_type": "code",
   "execution_count": 15,
   "metadata": {
    "collapsed": false
   },
   "outputs": [
    {
     "name": "stdout",
     "output_type": "stream",
     "text": [
      "     0         1    2         3    4         5    6         7       8\n",
      "0  5.1  0.222222  3.5  0.625000  1.4  0.067797  0.2  0.041667  setosa\n",
      "1  4.9  0.166667  3.0  0.416667  1.4  0.067797  0.2  0.041667  setosa\n",
      "2  4.7  0.111111  3.2  0.500000  1.3  0.050847  0.2  0.041667  setosa\n",
      "3  4.6  0.083333  3.1  0.458333  1.5  0.084746  0.2  0.041667  setosa\n",
      "4  5.0  0.194444  3.6  0.666667  1.4  0.067797  0.2  0.041667  setosa\n",
      "5  5.4  0.305556  3.9  0.791667  1.7  0.118644  0.4  0.125000  setosa\n",
      "6  4.6  0.083333  3.4  0.583333  1.4  0.067797  0.3  0.083333  setosa\n",
      "7  5.0  0.194444  3.4  0.583333  1.5  0.084746  0.2  0.041667  setosa\n",
      "8  4.4  0.027778  2.9  0.375000  1.4  0.067797  0.2  0.041667  setosa\n",
      "9  4.9  0.166667  3.1  0.458333  1.5  0.084746  0.1  0.010000  setosa\n"
     ]
    }
   ],
   "source": [
    "import pandas as pd\n",
    "\n",
    "filename = PATH[\"data\"] + PARAM[\"fileData\"] # full path of my data\n",
    "df = pd.read_csv(filename, sep = PARAM[\"separator\"], encoding = PARAM[\"encoding\"], header = None)\n",
    "# df.columns = ['sepal length', 'sepal width', 'petal length', 'petal width', 'class']\n",
    "\n",
    "print df.head(10) # montre les 10 premières lignes"
   ]
  }
 ],
 "metadata": {
  "kernelspec": {
   "display_name": "Python 2",
   "language": "python",
   "name": "python2"
  },
  "language_info": {
   "codemirror_mode": {
    "name": "ipython",
    "version": 2
   },
   "file_extension": ".py",
   "mimetype": "text/x-python",
   "name": "python",
   "nbconvert_exporter": "python",
   "pygments_lexer": "ipython2",
   "version": "2.7.13"
  }
 },
 "nbformat": 4,
 "nbformat_minor": 2
}
